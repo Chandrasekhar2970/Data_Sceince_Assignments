{
 "cells": [
  {
   "cell_type": "code",
   "execution_count": 5,
   "metadata": {},
   "outputs": [
    {
     "name": "stdout",
     "output_type": "stream",
     "text": [
      "15 is not a prime number\n"
     ]
    }
   ],
   "source": [
    "# Checks the given number is prime or not\n",
    "\n",
    "n = int(input('Enter a number:'))\n",
    "\n",
    "if n <= 1:\n",
    "    print(n, 'is not a prime number')\n",
    "else: \n",
    "    is_prime = True\n",
    "    for i in range(2, n):\n",
    "        if n % i == 0:\n",
    "            is_prime = False\n",
    "            break\n",
    "    if is_prime:\n",
    "        print(n, 'is a prime number')\n",
    "    else:\n",
    "        print(n, 'is not a prime number')"
   ]
  },
  {
   "cell_type": "code",
   "execution_count": 7,
   "metadata": {},
   "outputs": [
    {
     "name": "stdout",
     "output_type": "stream",
     "text": [
      "[7, 4]\n",
      "Congrtulations! your guess is correct\n",
      "The Product of two numbers is: 28\n"
     ]
    }
   ],
   "source": [
    "# Product of Random Numbers\n",
    "\n",
    "from numpy import random # type: ignore\n",
    "data = list(random.randint(1, high = 15, size = 2))\n",
    "print(data) \n",
    "\n",
    "prod = int(input('Guess the product of numbers:'))\n",
    "def product(data):\n",
    "    return data[0] * data[1]\n",
    "\n",
    "if prod == product(data):\n",
    "    print('Congrtulations! your guess is correct')\n",
    "    print('The Product of two numbers is:', product(data))\n",
    "else:\n",
    "    print('Try again...')\n",
    "    prod = int(input('Guess the product of numbers:'))"
   ]
  },
  {
   "cell_type": "code",
   "execution_count": 3,
   "metadata": {},
   "outputs": [
    {
     "name": "stdout",
     "output_type": "stream",
     "text": [
      "[10000, 10404, 10816, 11236, 11664, 12100, 12544, 12996, 13456, 13924, 14400, 14884, 15376, 15876, 16384, 16900, 17424, 17956, 18496, 19044, 19600, 20164, 20736, 21316, 21904, 22500]\n"
     ]
    }
   ],
   "source": [
    "# Squares of Even/Odd Numbers\n",
    "\n",
    "text = input('Enter Even or Odd:')\n",
    "squares = []\n",
    "\n",
    "if text == 'Even':\n",
    "    for i in range(100, 151, 2):\n",
    "        squares.append(i**2)\n",
    "    print(squares)\n",
    "elif text == 'Odd':\n",
    "    for i in range(101, 151, 2):\n",
    "        squares.append(i**2)\n",
    "    print(squares)"
   ]
  },
  {
   "cell_type": "code",
   "execution_count": 18,
   "metadata": {},
   "outputs": [
    {
     "name": "stdout",
     "output_type": "stream",
     "text": [
      "python: 2\n",
      "is: 2\n",
      "a: 1\n",
      "high-level: 1\n",
      "general-purpose: 1\n",
      "programming: 1\n",
      "language: 1\n",
      "known: 1\n",
      "for: 1\n",
      "its: 1\n",
      "clear: 1\n",
      "syntax: 1\n",
      "and: 1\n",
      "emphasis: 1\n",
      "on: 1\n",
      "code: 1\n",
      "readability.: 1\n"
     ]
    }
   ],
   "source": [
    "# Word Counter\n",
    "\n",
    "def word_count(text):\n",
    "    words = text.lower().split()\n",
    "    word_counts = {}\n",
    "\n",
    "    for word in words:\n",
    "        if word in word_counts:\n",
    "            word_counts[word] += 1\n",
    "        else:\n",
    "            word_counts[word] = 1\n",
    "    \n",
    "    return word_counts\n",
    "    \n",
    "text = 'Python is a high-level general-purpose programming language Python is known for its clear syntax and emphasis on code readability.'\n",
    "\n",
    "\n",
    "count = word_count(text)\n",
    "\n",
    "for k, v in count.items():\n",
    "    print(f'{k}: {v}')"
   ]
  },
  {
   "cell_type": "code",
   "execution_count": 27,
   "metadata": {},
   "outputs": [
    {
     "name": "stdout",
     "output_type": "stream",
     "text": [
      "The given string is Palindrome or not: True\n",
      "False\n"
     ]
    }
   ],
   "source": [
    "# Check for Palindrome\n",
    "\n",
    "def is_palindrome(str):\n",
    "    if str[::-1] == str:\n",
    "        return True\n",
    "    else:\n",
    "        return False\n",
    "    \n",
    "print('The given string is Palindrome or not:', is_palindrome('racecar'))\n",
    "print(is_palindrome('123456'))"
   ]
  }
 ],
 "metadata": {
  "kernelspec": {
   "display_name": "Python 3",
   "language": "python",
   "name": "python3"
  },
  "language_info": {
   "codemirror_mode": {
    "name": "ipython",
    "version": 3
   },
   "file_extension": ".py",
   "mimetype": "text/x-python",
   "name": "python",
   "nbconvert_exporter": "python",
   "pygments_lexer": "ipython3",
   "version": "3.11.4"
  }
 },
 "nbformat": 4,
 "nbformat_minor": 2
}
