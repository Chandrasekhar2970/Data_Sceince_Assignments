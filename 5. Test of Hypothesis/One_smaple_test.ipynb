{
 "cells": [
  {
   "cell_type": "code",
   "execution_count": 4,
   "id": "0bb684ac-ced5-4f2c-923b-204ae0381d22",
   "metadata": {},
   "outputs": [
    {
     "name": "stdout",
     "output_type": "stream",
     "text": [
      "t-statistic value: -38.0\n",
      "t-calculated value: 1.64\n"
     ]
    }
   ],
   "source": [
    "# Sample_mean = Rs.3050\n",
    "# Theoretical_mean = $1000 + $5*(600) = $4000 = Rs.300000\n",
    "# standard_deviation = 125 units\n",
    "# Sample_size = 25\n",
    "import numpy as np \n",
    "\n",
    "sample_mean = 3050\n",
    "theoretical_mean = 4000\n",
    "standard_deviation = 125\n",
    "sample_size = 25\n",
    "alpha = 0.05\n",
    "\n",
    "from scipy import stats # type: ignore\n",
    "t_statistic = (sample_mean - theoretical_mean) / (standard_deviation / np.sqrt(sample_size))\n",
    "print('t-statistic value:', t_statistic.round(2))\n",
    "\n",
    "t_calculated = stats.norm.ppf(0.95).round(2)\n",
    "print('t-calculated value:', t_calculated)"
   ]
  }
 ],
 "metadata": {
  "kernelspec": {
   "display_name": ".venv",
   "language": "python",
   "name": "python3"
  },
  "language_info": {
   "codemirror_mode": {
    "name": "ipython",
    "version": 3
   },
   "file_extension": ".py",
   "mimetype": "text/x-python",
   "name": "python",
   "nbconvert_exporter": "python",
   "pygments_lexer": "ipython3",
   "version": "3.11.4"
  }
 },
 "nbformat": 4,
 "nbformat_minor": 5
}
