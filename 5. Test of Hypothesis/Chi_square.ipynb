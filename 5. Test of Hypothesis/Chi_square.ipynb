{
 "cells": [
  {
   "cell_type": "code",
   "execution_count": 1,
   "metadata": {},
   "outputs": [],
   "source": [
    "from scipy.stats import chi2_contingency # type: ignore\n",
    "\n",
    "data = [[50, 70], [80, 100], [60, 90], [30, 50], [20, 50]]"
   ]
  },
  {
   "cell_type": "code",
   "execution_count": 2,
   "metadata": {},
   "outputs": [],
   "source": [
    "# Chi_square_test and p_value\n",
    "\n",
    "chi2, pvalue, dof, excepted_frequency = chi2_contingency(data)"
   ]
  },
  {
   "cell_type": "code",
   "execution_count": 4,
   "metadata": {},
   "outputs": [
    {
     "name": "stdout",
     "output_type": "stream",
     "text": [
      "Chi2  test value: 5.638\n",
      "P value is: 0.228\n",
      "Degree of freedom: 4\n"
     ]
    }
   ],
   "source": [
    "alpha = 0.05\n",
    "\n",
    "print('Chi2  test value:', chi2.round(3))\n",
    "print('P value is:', pvalue.round(3))\n",
    "print('Degree of freedom:', dof)"
   ]
  },
  {
   "cell_type": "code",
   "execution_count": 5,
   "metadata": {},
   "outputs": [
    {
     "name": "stdout",
     "output_type": "stream",
     "text": [
      "Ho is accepted and H1 is rejected.\n"
     ]
    }
   ],
   "source": [
    "if pvalue <= alpha:\n",
    "    print('Ho is rejected and H1 is accepted.')\n",
    "else:\n",
    "    print('Ho is accepted and H1 is rejected.')"
   ]
  }
 ],
 "metadata": {
  "kernelspec": {
   "display_name": "Python 3",
   "language": "python",
   "name": "python3"
  },
  "language_info": {
   "codemirror_mode": {
    "name": "ipython",
    "version": 3
   },
   "file_extension": ".py",
   "mimetype": "text/x-python",
   "name": "python",
   "nbconvert_exporter": "python",
   "pygments_lexer": "ipython3",
   "version": "3.11.4"
  }
 },
 "nbformat": 4,
 "nbformat_minor": 2
}
