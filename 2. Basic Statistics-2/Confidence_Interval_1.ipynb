{
 "cells": [
  {
   "cell_type": "code",
   "execution_count": 21,
   "id": "bd272c83-7e88-44c0-9caf-5652bb6e5a58",
   "metadata": {},
   "outputs": [
    {
     "data": {
      "text/html": [
       "<div>\n",
       "<style scoped>\n",
       "    .dataframe tbody tr th:only-of-type {\n",
       "        vertical-align: middle;\n",
       "    }\n",
       "\n",
       "    .dataframe tbody tr th {\n",
       "        vertical-align: top;\n",
       "    }\n",
       "\n",
       "    .dataframe thead th {\n",
       "        text-align: right;\n",
       "    }\n",
       "</style>\n",
       "<table border=\"1\" class=\"dataframe\">\n",
       "  <thead>\n",
       "    <tr style=\"text-align: right;\">\n",
       "      <th></th>\n",
       "      <th>Durability_in_millions</th>\n",
       "    </tr>\n",
       "  </thead>\n",
       "  <tbody>\n",
       "    <tr>\n",
       "      <th>0</th>\n",
       "      <td>1.13</td>\n",
       "    </tr>\n",
       "    <tr>\n",
       "      <th>1</th>\n",
       "      <td>1.55</td>\n",
       "    </tr>\n",
       "    <tr>\n",
       "      <th>2</th>\n",
       "      <td>1.43</td>\n",
       "    </tr>\n",
       "    <tr>\n",
       "      <th>3</th>\n",
       "      <td>0.92</td>\n",
       "    </tr>\n",
       "    <tr>\n",
       "      <th>4</th>\n",
       "      <td>1.25</td>\n",
       "    </tr>\n",
       "    <tr>\n",
       "      <th>5</th>\n",
       "      <td>1.36</td>\n",
       "    </tr>\n",
       "    <tr>\n",
       "      <th>6</th>\n",
       "      <td>1.32</td>\n",
       "    </tr>\n",
       "    <tr>\n",
       "      <th>7</th>\n",
       "      <td>0.85</td>\n",
       "    </tr>\n",
       "    <tr>\n",
       "      <th>8</th>\n",
       "      <td>1.07</td>\n",
       "    </tr>\n",
       "    <tr>\n",
       "      <th>9</th>\n",
       "      <td>1.48</td>\n",
       "    </tr>\n",
       "    <tr>\n",
       "      <th>10</th>\n",
       "      <td>1.20</td>\n",
       "    </tr>\n",
       "    <tr>\n",
       "      <th>11</th>\n",
       "      <td>1.33</td>\n",
       "    </tr>\n",
       "    <tr>\n",
       "      <th>12</th>\n",
       "      <td>1.18</td>\n",
       "    </tr>\n",
       "    <tr>\n",
       "      <th>13</th>\n",
       "      <td>1.22</td>\n",
       "    </tr>\n",
       "    <tr>\n",
       "      <th>14</th>\n",
       "      <td>1.29</td>\n",
       "    </tr>\n",
       "  </tbody>\n",
       "</table>\n",
       "</div>"
      ],
      "text/plain": [
       "    Durability_in_millions\n",
       "0                     1.13\n",
       "1                     1.55\n",
       "2                     1.43\n",
       "3                     0.92\n",
       "4                     1.25\n",
       "5                     1.36\n",
       "6                     1.32\n",
       "7                     0.85\n",
       "8                     1.07\n",
       "9                     1.48\n",
       "10                    1.20\n",
       "11                    1.33\n",
       "12                    1.18\n",
       "13                    1.22\n",
       "14                    1.29"
      ]
     },
     "execution_count": 21,
     "metadata": {},
     "output_type": "execute_result"
    }
   ],
   "source": [
    "import pandas as pd # type: ignore\n",
    "import numpy as np # type: ignore\n",
    "\n",
    "print_heads = np.array([[1.13], [1.55], [1.43], [0.92], [1.25], [1.36], [1.32], \n",
    "              [0.85], [1.07], [1.48], [1.20], [1.33], [1.18], [1.22], [1.29]])\n",
    "df = pd.DataFrame(print_heads)\n",
    "df.rename(columns = {0: 'Durability_in_millions'}, inplace = True)\n",
    "df"
   ]
  },
  {
   "cell_type": "code",
   "execution_count": 25,
   "id": "0cc1e7e4-b5e1-47c5-a930-ba97b34cc521",
   "metadata": {},
   "outputs": [
    {
     "data": {
      "text/plain": [
       "1.2387"
      ]
     },
     "execution_count": 25,
     "metadata": {},
     "output_type": "execute_result"
    }
   ],
   "source": [
    "df['Durability_in_millions'].mean().round(4)"
   ]
  },
  {
   "cell_type": "code",
   "execution_count": 38,
   "id": "e421f9d4-b006-489e-bb46-cce8904b79da",
   "metadata": {},
   "outputs": [
    {
     "data": {
      "text/plain": [
       "(1.090197338451367, 1.3871359948819662)"
      ]
     },
     "execution_count": 38,
     "metadata": {},
     "output_type": "execute_result"
    }
   ],
   "source": [
    "# 1. Finding the 99% confidence interval for the mean number of characters printed before\n",
    "#    the print-head fails using the sample standard deviation.\n",
    "\n",
    "import pandas as pd # type: ignore\n",
    "from scipy import stats # type: ignore\n",
    "\n",
    "# Given data\n",
    "data = [1.13, 1.55, 1.43, 0.92, 1.25, 1.36, 1.32, 0.85, 1.07, 1.48, 1.20, 1.33, 1.18, 1.22, 1.29]\n",
    "\n",
    "data_series = pd.Series(data)\n",
    "\n",
    "# Calculate sample mean and standard deviation\n",
    "sample_mean = data_series.mean()\n",
    "sample_std = data_series.std(ddof=1)\n",
    "\n",
    "# Determine the t-score for a 99% confidence level\n",
    "t_score = stats.t.ppf(0.995, df=len(data)-1) # two-tailed test\n",
    "\n",
    "# Calculate margin of error\n",
    "margin_of_error = t_score * (sample_std / (len(data) ** 0.5))\n",
    "\n",
    "# Confidence interval\n",
    "confidence_interval = (sample_mean - margin_of_error, sample_mean + margin_of_error)\n",
    "\n",
    "confidence_interval\n"
   ]
  },
  {
   "cell_type": "markdown",
   "id": "cb67fc05",
   "metadata": {},
   "source": [
    "The 99% confidence interval for the mean number of characters using sample standard deviation is (1.09, 1.387)"
   ]
  },
  {
   "cell_type": "code",
   "execution_count": 40,
   "id": "5519c385-94a5-45e1-b2f2-6b7731829681",
   "metadata": {},
   "outputs": [
    {
     "data": {
      "text/plain": [
       "(1.1056514133957607, 1.3716819199375725)"
      ]
     },
     "execution_count": 40,
     "metadata": {},
     "output_type": "execute_result"
    }
   ],
   "source": [
    "# If it were known that the population standard deviation is 0.2 million characters, \n",
    "# Construct a 99% confidence interval for the mean number of characters printed before failure.\n",
    "\n",
    "import pandas as pd # type: ignore\n",
    "from scipy.stats import norm # type: ignore\n",
    "\n",
    "# Given data and known population standard deviation\n",
    "data = [1.13, 1.55, 1.43, 0.92, 1.25, 1.36, 1.32, 0.85, 1.07, 1.48, 1.20, 1.33, 1.18, 1.22, 1.29]\n",
    "population_std = 0.2\n",
    "\n",
    "# Create a pandas Series\n",
    "data_series = pd.Series(data)\n",
    "\n",
    "# Calculate sample mean\n",
    "sample_mean = data_series.mean()\n",
    "\n",
    "# Determine z-score for a 99% confidence level\n",
    "z_score = norm.ppf(0.995) # two-tailed test\n",
    "\n",
    "# Calculate margin of error using population standard deviation\n",
    "margin_of_error = z_score * (population_std / (len(data) ** 0.5))\n",
    "\n",
    "# Construct confidence interval\n",
    "confidence_interval_population_std = (sample_mean - margin_of_error, sample_mean + margin_of_error)\n",
    "\n",
    "confidence_interval_population_std\n"
   ]
  },
  {
   "cell_type": "markdown",
   "id": "549c16da",
   "metadata": {},
   "source": [
    "A 99% confidence interval for the mean number of characters printed before failure using \n",
    "the population standard deviation is (1.105, 1.37)"
   ]
  }
 ],
 "metadata": {
  "kernelspec": {
   "display_name": ".venv",
   "language": "python",
   "name": "python3"
  },
  "language_info": {
   "codemirror_mode": {
    "name": "ipython",
    "version": 3
   },
   "file_extension": ".py",
   "mimetype": "text/x-python",
   "name": "python",
   "nbconvert_exporter": "python",
   "pygments_lexer": "ipython3",
   "version": "3.11.4"
  }
 },
 "nbformat": 4,
 "nbformat_minor": 5
}
